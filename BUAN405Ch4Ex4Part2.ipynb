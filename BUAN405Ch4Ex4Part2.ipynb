{
  "nbformat": 4,
  "nbformat_minor": 0,
  "metadata": {
    "colab": {
      "provenance": []
    },
    "kernelspec": {
      "name": "python3",
      "display_name": "Python 3"
    },
    "language_info": {
      "name": "python"
    }
  },
  "cells": [
    {
      "cell_type": "code",
      "execution_count": 3,
      "metadata": {
        "id": "scH4C9n4R1-H"
      },
      "outputs": [],
      "source": [
        "import pandas as pd\n",
        "import sqlite3"
      ]
    },
    {
      "cell_type": "code",
      "source": [
        "con = sqlite3.connect(\"/content/Chinook (Data Base File) (3).db\")\n",
        "con.text_factory = bytes"
      ],
      "metadata": {
        "id": "ClTHu9nJSEWG"
      },
      "execution_count": 5,
      "outputs": []
    },
    {
      "cell_type": "code",
      "source": [
        "# define a helper function so the same syntax can be used\n",
        "dbGetQuery = lambda con, q: pd.read_sql(q, con=con)"
      ],
      "metadata": {
        "id": "iPz2Ksh9SLFP"
      },
      "execution_count": 6,
      "outputs": []
    },
    {
      "cell_type": "code",
      "source": [
        "print(dbGetQuery(con, \"select max(Milliseconds), avg(Milliseconds)  from Track;\"))"
      ],
      "metadata": {
        "colab": {
          "base_uri": "https://localhost:8080/"
        },
        "id": "FfM2EiqgSODH",
        "outputId": "ffbdba24-1418-466e-de25-103e1998e0d5"
      },
      "execution_count": 7,
      "outputs": [
        {
          "output_type": "stream",
          "name": "stdout",
          "text": [
            "   max(Milliseconds)  avg(Milliseconds)\n",
            "0            5286953      393599.212104\n"
          ]
        }
      ]
    },
    {
      "cell_type": "code",
      "source": [
        "print(dbGetQuery(con, \"select distinct AlbumID from Track\"))"
      ],
      "metadata": {
        "colab": {
          "base_uri": "https://localhost:8080/"
        },
        "id": "6tZDQ7z9SQ7T",
        "outputId": "fb936c16-192d-4e08-9ddf-637cd5e40285"
      },
      "execution_count": 8,
      "outputs": [
        {
          "output_type": "stream",
          "name": "stdout",
          "text": [
            "     AlbumId\n",
            "0          1\n",
            "1          2\n",
            "2          3\n",
            "3          4\n",
            "4          5\n",
            "..       ...\n",
            "342      343\n",
            "343      344\n",
            "344      345\n",
            "345      346\n",
            "346      347\n",
            "\n",
            "[347 rows x 1 columns]\n"
          ]
        }
      ]
    },
    {
      "cell_type": "code",
      "source": [
        "print(dbGetQuery(con, \"select trackid ,name from Track where Bytes < 1000000\"))"
      ],
      "metadata": {
        "colab": {
          "base_uri": "https://localhost:8080/"
        },
        "id": "3Sh2P6K3STVQ",
        "outputId": "73d4dc92-b416-483f-fca3-02679a4321b4"
      },
      "execution_count": 10,
      "outputs": [
        {
          "output_type": "stream",
          "name": "stdout",
          "text": [
            "   TrackId                            Name\n",
            "0      168                   b'Now Sports'\n",
            "1      170                  b'A Statistic'\n",
            "2      172             b'The Real Problem'\n",
            "3      178                        b'Oprah'\n",
            "4     2241                        b'Bossa'\n",
            "5     2461  b'\\xc9 Uma Partida De Futebol'\n",
            "6     3304                 b'Commercial 1'\n",
            "7     3310                 b'Commercial 2'\n"
          ]
        }
      ]
    },
    {
      "cell_type": "code",
      "source": [
        "print(dbGetQuery(con, \"select name, title from Album join Artist using(ArtistId)\"))"
      ],
      "metadata": {
        "colab": {
          "base_uri": "https://localhost:8080/"
        },
        "id": "-1GOZC_MSWS5",
        "outputId": "df7a389d-0601-4119-e7ff-d1f0791e9507"
      },
      "execution_count": 9,
      "outputs": [
        {
          "output_type": "stream",
          "name": "stdout",
          "text": [
            "                                                  Name  \\\n",
            "0                                             b'AC/DC'   \n",
            "1                                            b'Accept'   \n",
            "2                                            b'Accept'   \n",
            "3                                             b'AC/DC'   \n",
            "4                                         b'Aerosmith'   \n",
            "..                                                 ...   \n",
            "342                                  b'Eugene Ormandy'   \n",
            "343                          b'Emerson String Quartet'   \n",
            "344  b'C. Monteverdi, Nigel Rogers - Chiaroscuro; L...   \n",
            "345                                   b'Nash Ensemble'   \n",
            "346                           b'Philip Glass Ensemble'   \n",
            "\n",
            "                                                 Title  \n",
            "0             b'For Those About To Rock We Salute You'  \n",
            "1                                 b'Balls to the Wall'  \n",
            "2                                 b'Restless and Wild'  \n",
            "3                                 b'Let There Be Rock'  \n",
            "4                                          b'Big Ones'  \n",
            "..                                                 ...  \n",
            "342                          b'Respighi:Pines of Rome'  \n",
            "343  b\"Schubert: The Late String Quartets & String ...  \n",
            "344                             b\"Monteverdi: L'Orfeo\"  \n",
            "345                           b'Mozart: Chamber Music'  \n",
            "346  b'Koyaanisqatsi (Soundtrack from the Motion Pi...  \n",
            "\n",
            "[347 rows x 2 columns]\n"
          ]
        }
      ]
    },
    {
      "cell_type": "code",
      "source": [
        "print(dbGetQuery(con, \"select track.name,album.title from track join album using(albumid) where title = 'Supernatural'\"))"
      ],
      "metadata": {
        "colab": {
          "base_uri": "https://localhost:8080/"
        },
        "id": "Aa2W1nzoSY7s",
        "outputId": "23fa74f9-b2e0-492f-aea0-15c53b239f9b"
      },
      "execution_count": 11,
      "outputs": [
        {
          "output_type": "stream",
          "name": "stdout",
          "text": [
            "                      Name            Title\n",
            "0         b'(Da Le) Yaleo'  b'Supernatural'\n",
            "1       b'Love Of My Life'  b'Supernatural'\n",
            "2    b'Put Your Lights On'  b'Supernatural'\n",
            "3          b'Africa Bamba'  b'Supernatural'\n",
            "4                b'Smooth'  b'Supernatural'\n",
            "5   b'Do You Like The Way'  b'Supernatural'\n",
            "6           b'Maria Maria'  b'Supernatural'\n",
            "7                 b'Migra'  b'Supernatural'\n",
            "8      b'Corazon Espinado'  b'Supernatural'\n",
            "9        b'Wishing It Was'  b'Supernatural'\n",
            "10             b'El Farol'  b'Supernatural'\n",
            "11            b'Primavera'  b'Supernatural'\n",
            "12          b'The Calling'  b'Supernatural'\n"
          ]
        }
      ]
    },
    {
      "cell_type": "code",
      "source": [
        "# New Query: Find the total number of tracks per album\n",
        "print(dbGetQuery(con, \"\"\"\n",
        "    SELECT Album.Title, COUNT(Track.TrackId) AS NumberOfTracks\n",
        "    FROM Album\n",
        "    JOIN Track ON Album.AlbumId = Track.AlbumId\n",
        "    GROUP BY Album.Title\n",
        "    ORDER BY NumberOfTracks DESC;\n",
        "\"\"\"))\n"
      ],
      "metadata": {
        "colab": {
          "base_uri": "https://localhost:8080/"
        },
        "id": "TNn9Rm8oWZGr",
        "outputId": "9c55953f-1475-4160-8ac8-e9ecee6f8bae"
      },
      "execution_count": 12,
      "outputs": [
        {
          "output_type": "stream",
          "name": "stdout",
          "text": [
            "                                                 Title  NumberOfTracks\n",
            "0                                     b'Greatest Hits'              57\n",
            "1                                    b'Minha Historia'              34\n",
            "2                                         b'Unplugged'              30\n",
            "3                                    b'Lost, Season 3'              26\n",
            "4                              b'The Office, Season 3'              25\n",
            "..                                                 ...             ...\n",
            "342                               b'Allegri: Miserere'               1\n",
            "343  b'Adorate Deum: Gregorian Chant from the Prope...               1\n",
            "344                b'Adams, John: The Chairman Dances'               1\n",
            "345                              b'A Soprano Inspired'               1\n",
            "346                   b'A Copland Celebration, Vol. I'               1\n",
            "\n",
            "[347 rows x 2 columns]\n"
          ]
        }
      ]
    },
    {
      "cell_type": "code",
      "source": [],
      "metadata": {
        "id": "uoAdjo7VWY-U"
      },
      "execution_count": null,
      "outputs": []
    }
  ]
}