{
  "nbformat": 4,
  "nbformat_minor": 0,
  "metadata": {
    "colab": {
      "provenance": []
    },
    "kernelspec": {
      "name": "python3",
      "display_name": "Python 3"
    },
    "language_info": {
      "name": "python"
    }
  },
  "cells": [
    {
      "cell_type": "code",
      "execution_count": 5,
      "metadata": {
        "id": "hPFX_VBbNGHY"
      },
      "outputs": [],
      "source": [
        "import sqlite3\n",
        "import pandas as pd"
      ]
    },
    {
      "cell_type": "code",
      "source": [
        "con = sqlite3.connect(\"/content/Chinook (Data Base File) (3).db\")\n",
        "con.text_factory = bytes"
      ],
      "metadata": {
        "id": "5sf0qiH7NX6M"
      },
      "execution_count": 6,
      "outputs": []
    },
    {
      "cell_type": "code",
      "source": [
        "# define a helper function so the same syntax can be used\n",
        "dbGetQuery = lambda con, q: pd.read_sql(q, con=con)"
      ],
      "metadata": {
        "id": "RJ-njHPCOnTf"
      },
      "execution_count": 7,
      "outputs": []
    },
    {
      "cell_type": "code",
      "source": [
        "# 0. List all tables\n",
        "print(dbGetQuery(con, \"select name from sqlite_master where type = 'table';\"))"
      ],
      "metadata": {
        "colab": {
          "base_uri": "https://localhost:8080/"
        },
        "id": "ienk42JFO2ug",
        "outputId": "c9f2baf5-6c76-4a58-b9ad-21a1d96fa955"
      },
      "execution_count": 8,
      "outputs": [
        {
          "output_type": "stream",
          "name": "stdout",
          "text": [
            "                name\n",
            "0           b'Album'\n",
            "1          b'Artist'\n",
            "2        b'Customer'\n",
            "3        b'Employee'\n",
            "4           b'Genre'\n",
            "5         b'Invoice'\n",
            "6     b'InvoiceLine'\n",
            "7       b'MediaType'\n",
            "8        b'Playlist'\n",
            "9   b'PlaylistTrack'\n",
            "10          b'Track'\n"
          ]
        }
      ]
    },
    {
      "cell_type": "code",
      "source": [
        "# 1.\tDisplay all of the information from the Track table sorted by length.\n",
        "A = dbGetQuery(con, \"select * from Track order by Milliseconds;\")\n",
        "print(A)"
      ],
      "metadata": {
        "colab": {
          "base_uri": "https://localhost:8080/"
        },
        "id": "_vIrVHE7O9UP",
        "outputId": "d4c7b2a1-3b81-420c-ba61-4e1bd4b813b2"
      },
      "execution_count": 9,
      "outputs": [
        {
          "output_type": "stream",
          "name": "stdout",
          "text": [
            "      TrackId                            Name  AlbumId  MediaTypeId  GenreId  \\\n",
            "0        2461  b'\\xc9 Uma Partida De Futebol'      200            1        1   \n",
            "1         168                   b'Now Sports'       18            1        4   \n",
            "2         170                  b'A Statistic'       18            1        4   \n",
            "3         178                        b'Oprah'       18            1        4   \n",
            "4        3304                 b'Commercial 1'      258            1       17   \n",
            "...       ...                             ...      ...          ...      ...   \n",
            "3498     3227  b'Battlestar Galactica, Pt. 2'      253            3       20   \n",
            "3499     3242      b'The Man With Nine Lives'      253            3       20   \n",
            "3500     3244  b'Greetings from Earth, Pt. 1'      253            3       20   \n",
            "3501     3224      b'Through a Looking Glass'      229            3       21   \n",
            "3502     2820       b'Occupation / Precipice'      227            3       19   \n",
            "\n",
            "            Composer  Milliseconds       Bytes  UnitPrice  \n",
            "0     b'Samuel Rosa'          1071       38747       0.99  \n",
            "1               None          4884      161266       0.99  \n",
            "2               None          6373      211997       0.99  \n",
            "3               None          6635      224313       0.99  \n",
            "4     b'L. Muggerud'          7941      319888       0.99  \n",
            "...              ...           ...         ...        ...  \n",
            "3498            None       2956081   521387924       1.99  \n",
            "3499            None       2956998   577829804       1.99  \n",
            "3500            None       2960293   536824558       1.99  \n",
            "3501            None       5088838  1059546140       1.99  \n",
            "3502            None       5286953  1054423946       1.99  \n",
            "\n",
            "[3503 rows x 9 columns]\n"
          ]
        }
      ]
    },
    {
      "cell_type": "code",
      "source": [
        "# 2.\tDisplay the Customer ID and the total amount the customer has spent for customers that spent over $40.\n",
        "B = dbGetQuery(con, \"select customerid, sum(total) from Invoice group by CustomerId having sum(total) > 40;\")\n",
        "print(B)"
      ],
      "metadata": {
        "colab": {
          "base_uri": "https://localhost:8080/"
        },
        "id": "rPVa-PJiPMpk",
        "outputId": "652079ff-69b3-4e3f-d293-07279b858fe3"
      },
      "execution_count": 10,
      "outputs": [
        {
          "output_type": "stream",
          "name": "stdout",
          "text": [
            "    CustomerId  sum(total)\n",
            "0            5       40.62\n",
            "1            6       49.62\n",
            "2            7       42.62\n",
            "3           24       43.62\n",
            "4           25       42.62\n",
            "5           26       47.62\n",
            "6           28       43.62\n",
            "7           37       43.62\n",
            "8           43       40.62\n",
            "9           44       41.62\n",
            "10          45       45.62\n",
            "11          46       45.62\n",
            "12          48       40.62\n",
            "13          57       46.62\n"
          ]
        }
      ]
    },
    {
      "cell_type": "code",
      "source": [
        "# 3.\tDisplay the Artist ID for Queen.\n",
        "C = dbGetQuery(con,\"select artistid from Artist where Name = 'Queen' \")\n",
        "print(C)"
      ],
      "metadata": {
        "colab": {
          "base_uri": "https://localhost:8080/"
        },
        "id": "evX_S1xUPQYK",
        "outputId": "2e12e41a-24c3-4b8d-9db5-bd1ec12a8f56"
      },
      "execution_count": 11,
      "outputs": [
        {
          "output_type": "stream",
          "name": "stdout",
          "text": [
            "   ArtistId\n",
            "0        51\n"
          ]
        }
      ]
    },
    {
      "cell_type": "code",
      "source": [
        "# 4.\tDisplay the 10 shortest songs.\n",
        "D = dbGetQuery(con,\" select * from Track order by Milliseconds limit 10; \")\n",
        "print(D)"
      ],
      "metadata": {
        "colab": {
          "base_uri": "https://localhost:8080/"
        },
        "id": "N-ntKxyOPURd",
        "outputId": "e2e6e087-21af-4671-91f9-8a8494d970a9"
      },
      "execution_count": 12,
      "outputs": [
        {
          "output_type": "stream",
          "name": "stdout",
          "text": [
            "   TrackId                            Name  AlbumId  MediaTypeId  GenreId  \\\n",
            "0     2461  b'\\xc9 Uma Partida De Futebol'      200            1        1   \n",
            "1      168                   b'Now Sports'       18            1        4   \n",
            "2      170                  b'A Statistic'       18            1        4   \n",
            "3      178                        b'Oprah'       18            1        4   \n",
            "4     3304                 b'Commercial 1'      258            1       17   \n",
            "5      172             b'The Real Problem'       18            1        4   \n",
            "6     3310                 b'Commercial 2'      258            1       17   \n",
            "7     2241                        b'Bossa'      184            1       17   \n",
            "8     1086                b'Casinha Feliz'       85            1       10   \n",
            "9      246                 b'Mateus Enter'       24            1        7   \n",
            "\n",
            "           Composer  Milliseconds    Bytes  UnitPrice  \n",
            "0    b'Samuel Rosa'          1071    38747       0.99  \n",
            "1              None          4884   161266       0.99  \n",
            "2              None          6373   211997       0.99  \n",
            "3              None          6635   224313       0.99  \n",
            "4    b'L. Muggerud'          7941   319888       0.99  \n",
            "5              None         11650   387360       0.99  \n",
            "6    b'L. Muggerud'         21211   850698       0.99  \n",
            "7              None         29048   967098       0.99  \n",
            "8   b'Gilberto Gil'         32287  1039615       0.99  \n",
            "9  b'Chico Science'         33149  1103013       0.99  \n"
          ]
        }
      ]
    },
    {
      "cell_type": "code",
      "source": [
        "# 5.\tDisplay the track name and album title of all tracks that cost $1.99.\n",
        "E = dbGetQuery(con,\"select Name, Title from Track join Album using (AlbumId) where UnitPrice=1.99\")\n",
        "print(E)"
      ],
      "metadata": {
        "colab": {
          "base_uri": "https://localhost:8080/"
        },
        "id": "PyuzeEgDPYD-",
        "outputId": "27640958-17ad-456a-c767-5653eb450a56"
      },
      "execution_count": 13,
      "outputs": [
        {
          "output_type": "stream",
          "name": "stdout",
          "text": [
            "                                          Name  \\\n",
            "0    b'Battlestar Galactica: The Story So Far'   \n",
            "1                    b'Occupation / Precipice'   \n",
            "2                             b'Exodus, Pt. 1'   \n",
            "3                             b'Exodus, Pt. 2'   \n",
            "4                             b'Collaborators'   \n",
            "..                                         ...   \n",
            "208       b\"There's No Place Like Home, Pt. 1\"   \n",
            "209       b\"There's No Place Like Home, Pt. 2\"   \n",
            "210       b\"There's No Place Like Home, Pt. 3\"   \n",
            "211                          b'Branch Closing'   \n",
            "212                              b'The Return'   \n",
            "\n",
            "                                         Title  \n",
            "0    b'Battlestar Galactica: The Story So Far'  \n",
            "1            b'Battlestar Galactica, Season 3'  \n",
            "2            b'Battlestar Galactica, Season 3'  \n",
            "3            b'Battlestar Galactica, Season 3'  \n",
            "4            b'Battlestar Galactica, Season 3'  \n",
            "..                                         ...  \n",
            "208                          b'LOST, Season 4'  \n",
            "209                          b'LOST, Season 4'  \n",
            "210                          b'LOST, Season 4'  \n",
            "211                    b'The Office, Season 3'  \n",
            "212                    b'The Office, Season 3'  \n",
            "\n",
            "[213 rows x 2 columns]\n"
          ]
        }
      ]
    },
    {
      "cell_type": "code",
      "source": [
        "# 6.\tDisplay the artist name, album title, length of the album in seconds, with only albums longer than 1000 seconds, ordered by length in descending order.\n",
        "F = dbGetQuery(con,\"select Artist.Name, Title, sum(Milliseconds)/1000 as Length from Album join Artist using (ArtistId) join Track using (AlbumId) group by AlbumId having Length>1000 order by Length desc\")\n",
        "print(F)"
      ],
      "metadata": {
        "colab": {
          "base_uri": "https://localhost:8080/"
        },
        "id": "FuxzILXWPabV",
        "outputId": "5e7f1a2b-15ca-456d-9108-e2e4cb7cf56d"
      },
      "execution_count": 14,
      "outputs": [
        {
          "output_type": "stream",
          "name": "stdout",
          "text": [
            "                                  Name  \\\n",
            "0                              b'Lost'   \n",
            "1    b'Battlestar Galactica (Classic)'   \n",
            "2                              b'Lost'   \n",
            "3                              b'Lost'   \n",
            "4                            b'Heroes'   \n",
            "..                                 ...   \n",
            "251                    b'Led Zeppelin'   \n",
            "252                       b'Van Halen'   \n",
            "253                       b'Raimundos'   \n",
            "254                        b'BackBeat'   \n",
            "255             b'Black Label Society'   \n",
            "\n",
            "                                           Title  Length  \n",
            "0                              b'Lost, Season 3'   70665  \n",
            "1    b'Battlestar Galactica (Classic), Season 1'   70213  \n",
            "2                              b'Lost, Season 1'   64854  \n",
            "3                              b'Lost, Season 2'   63289  \n",
            "4                            b'Heroes, Season 1'   59780  \n",
            "..                                           ...     ...  \n",
            "251                                      b'Coda'    1981  \n",
            "252                                b'Diver Down'    1890  \n",
            "253                           b'Cesta B\\xe1sica'    1738  \n",
            "254                       b'BackBeat Soundtrack'    1615  \n",
            "255  b'Alcohol Fueled Brewtality Live! [Disc 2]'    1447  \n",
            "\n",
            "[256 rows x 3 columns]\n"
          ]
        }
      ]
    },
    {
      "cell_type": "code",
      "source": [
        "# 7.\tDisplay the customer last name and first name, the track name, the unit price and\n",
        "# the quantity for all track purchases.\n",
        "G = dbGetQuery(con,\"select customer.lastname,customer.firstname,InvoiceLine.unitprice,InvoiceLine.quantity,track.name from Customer join Invoice using(customerid) join InvoiceLine using(invoiceid) join Track using (trackid)\")\n",
        "print(G)"
      ],
      "metadata": {
        "colab": {
          "base_uri": "https://localhost:8080/"
        },
        "id": "X-GKYojyPdc4",
        "outputId": "b08de4e3-eaad-4bba-d1b4-874d278025b7"
      },
      "execution_count": 15,
      "outputs": [
        {
          "output_type": "stream",
          "name": "stdout",
          "text": [
            "                    LastName    FirstName  UnitPrice  Quantity  \\\n",
            "0               b'K\\xf6hler'    b'Leonie'       0.99         1   \n",
            "1               b'K\\xf6hler'    b'Leonie'       0.99         1   \n",
            "2                  b'Hansen'  b'Bj\\xf8rn'       0.99         1   \n",
            "3                  b'Hansen'  b'Bj\\xf8rn'       0.99         1   \n",
            "4                  b'Hansen'  b'Bj\\xf8rn'       0.99         1   \n",
            "...                      ...          ...        ...       ...   \n",
            "2235  b'H\\xe4m\\xe4l\\xe4inen'     b'Terhi'       0.99         1   \n",
            "2236  b'H\\xe4m\\xe4l\\xe4inen'     b'Terhi'       0.99         1   \n",
            "2237  b'H\\xe4m\\xe4l\\xe4inen'     b'Terhi'       0.99         1   \n",
            "2238  b'H\\xe4m\\xe4l\\xe4inen'     b'Terhi'       0.99         1   \n",
            "2239               b'Pareek'     b'Manoj'       1.99         1   \n",
            "\n",
            "                                                   Name  \n",
            "0                                  b'Balls to the Wall'  \n",
            "1                                  b'Restless and Wild'  \n",
            "2                              b'Put The Finger On You'  \n",
            "3                                   b'Inject The Venom'  \n",
            "4                                         b'Evil Walks'  \n",
            "...                                                 ...  \n",
            "2235                                b'Looking For Love'  \n",
            "2236                                 b'Sweet Lady Luck'  \n",
            "2237  b'Feirinha da Pavuna/Luz do Repente/Baga\\xe7o ...  \n",
            "2238                             b'Samba pras mo\\xe7as'  \n",
            "2239                                        b'Hot Girl'  \n",
            "\n",
            "[2240 rows x 5 columns]\n"
          ]
        }
      ]
    },
    {
      "cell_type": "code",
      "source": [
        "# 8.\tDisplay all customer information for all customers who had two or more orders of over $10.\n",
        "H = dbGetQuery(con, \"select distinct Customer.* from customer join Invoice as T1 using (customerid) join Invoice as T2 using (customerid) where T1.total >10 and  T2.total >10 and T1.invoiceid != T2.invoiceid \")\n",
        "print(H)"
      ],
      "metadata": {
        "colab": {
          "base_uri": "https://localhost:8080/"
        },
        "id": "JayNRg21Pf81",
        "outputId": "03452d6b-db23-4c3b-ddfa-9b19307cb6d6"
      },
      "execution_count": 16,
      "outputs": [
        {
          "output_type": "stream",
          "name": "stdout",
          "text": [
            "   CustomerId   FirstName       LastName                   Company  \\\n",
            "0          37     b'Fynn'  b'Zimmermann'                      None   \n",
            "1          34  b'Jo\\xe3o'   b'Fernandes'                      None   \n",
            "2          17     b'Jack'       b'Smith'  b'Microsoft Corporation'   \n",
            "3          28    b'Julia'     b'Barnett'                      None   \n",
            "4          57     b'Luis'       b'Rojas'                      None   \n",
            "\n",
            "                       Address               City  State      Country  \\\n",
            "0       b'Berger Stra\\xdfe 10'       b'Frankfurt'   None   b'Germany'   \n",
            "1  b'Rua da Assun\\xe7\\xe3o 53'          b'Lisbon'   None  b'Portugal'   \n",
            "2           b'1 Microsoft Way'         b'Redmond'  b'WA'       b'USA'   \n",
            "3               b'302 S 700 E'  b'Salt Lake City'  b'UT'       b'USA'   \n",
            "4           b'Calle Lira, 198'        b'Santiago'   None     b'Chile'   \n",
            "\n",
            "      PostalCode                  Phone                   Fax  \\\n",
            "0       b'60316'    b'+49 069 40598889'                  None   \n",
            "1           None  b'+351 (213) 466-111'                  None   \n",
            "2  b'98052-8300'   b'+1 (425) 882-8080'  b'+1 (425) 882-8081'   \n",
            "3       b'84102'   b'+1 (801) 531-7272'                  None   \n",
            "4           None   b'+56 (0)2 635 4444'                  None   \n",
            "\n",
            "                        Email  SupportRepId  \n",
            "0     b'fzimmermann@yahoo.de'             3  \n",
            "1      b'jfernandes@yahoo.pt'             4  \n",
            "2  b'jacksmith@microsoft.com'             5  \n",
            "3      b'jubarnett@gmail.com'             5  \n",
            "4       b'luisrojas@yahoo.cl'             5  \n"
          ]
        }
      ]
    },
    {
      "cell_type": "code",
      "source": [
        "I = dbGetQuery(con, \"\"\"\n",
        "    SELECT Track.Name, SUM(InvoiceLine.Quantity) as TotalQuantity\n",
        "    FROM Track\n",
        "    JOIN InvoiceLine ON Track.TrackId = InvoiceLine.TrackId\n",
        "    GROUP BY Track.TrackId\n",
        "    ORDER BY TotalQuantity DESC\n",
        "    LIMIT 5;\n",
        "\"\"\")\n",
        "print(I)\n"
      ],
      "metadata": {
        "colab": {
          "base_uri": "https://localhost:8080/"
        },
        "id": "vsVAD48QbgD6",
        "outputId": "9735f397-92aa-4ac3-ae15-da30c3d6d254"
      },
      "execution_count": 17,
      "outputs": [
        {
          "output_type": "stream",
          "name": "stdout",
          "text": [
            "                   Name  TotalQuantity\n",
            "0  b'Balls to the Wall'              2\n",
            "1   b'Inject The Venom'              2\n",
            "2         b'Snowballed'              2\n",
            "3           b'Overdose'              2\n",
            "4    b'Deuces Are Wild'              2\n"
          ]
        }
      ]
    }
  ]
}